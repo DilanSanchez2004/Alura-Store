{
  "cells": [
    {
      "cell_type": "markdown",
      "metadata": {
        "id": "RhEdWd9YUR6H"
      },
      "source": [
        "### Importación de datos\n",
        "\n"
      ]
    },
    {
      "cell_type": "code",
      "execution_count": 17,
      "metadata": {
        "colab": {
          "base_uri": "https://localhost:8080/",
          "height": 206
        },
        "id": "T3EvaeQ_INIL",
        "outputId": "e9c5efe1-82a3-43ab-e8d7-6d01e4fa3514"
      },
      "outputs": [
        {
          "data": {
            "text/html": [
              "<div>\n",
              "<style scoped>\n",
              "    .dataframe tbody tr th:only-of-type {\n",
              "        vertical-align: middle;\n",
              "    }\n",
              "\n",
              "    .dataframe tbody tr th {\n",
              "        vertical-align: top;\n",
              "    }\n",
              "\n",
              "    .dataframe thead th {\n",
              "        text-align: right;\n",
              "    }\n",
              "</style>\n",
              "<table border=\"1\" class=\"dataframe\">\n",
              "  <thead>\n",
              "    <tr style=\"text-align: right;\">\n",
              "      <th></th>\n",
              "      <th>Producto</th>\n",
              "      <th>Categoría del Producto</th>\n",
              "      <th>Precio</th>\n",
              "      <th>Costo de envío</th>\n",
              "      <th>Fecha de Compra</th>\n",
              "      <th>Vendedor</th>\n",
              "      <th>Lugar de Compra</th>\n",
              "      <th>Calificación</th>\n",
              "      <th>Método de pago</th>\n",
              "      <th>Cantidad de cuotas</th>\n",
              "      <th>lat</th>\n",
              "      <th>lon</th>\n",
              "    </tr>\n",
              "  </thead>\n",
              "  <tbody>\n",
              "    <tr>\n",
              "      <th>0</th>\n",
              "      <td>Asistente virtual</td>\n",
              "      <td>Electrónicos</td>\n",
              "      <td>164300.0</td>\n",
              "      <td>6900.0</td>\n",
              "      <td>16/01/2021</td>\n",
              "      <td>Pedro Gomez</td>\n",
              "      <td>Bogotá</td>\n",
              "      <td>4</td>\n",
              "      <td>Tarjeta de crédito</td>\n",
              "      <td>8</td>\n",
              "      <td>4.60971</td>\n",
              "      <td>-74.08175</td>\n",
              "    </tr>\n",
              "    <tr>\n",
              "      <th>1</th>\n",
              "      <td>Mesa de comedor</td>\n",
              "      <td>Muebles</td>\n",
              "      <td>192300.0</td>\n",
              "      <td>8400.0</td>\n",
              "      <td>18/05/2022</td>\n",
              "      <td>Beatriz Morales</td>\n",
              "      <td>Medellín</td>\n",
              "      <td>1</td>\n",
              "      <td>Tarjeta de crédito</td>\n",
              "      <td>4</td>\n",
              "      <td>6.25184</td>\n",
              "      <td>-75.56359</td>\n",
              "    </tr>\n",
              "    <tr>\n",
              "      <th>2</th>\n",
              "      <td>Juego de mesa</td>\n",
              "      <td>Juguetes</td>\n",
              "      <td>209600.0</td>\n",
              "      <td>15900.0</td>\n",
              "      <td>15/03/2021</td>\n",
              "      <td>Juan Fernandez</td>\n",
              "      <td>Cartagena</td>\n",
              "      <td>1</td>\n",
              "      <td>Tarjeta de crédito</td>\n",
              "      <td>1</td>\n",
              "      <td>10.39972</td>\n",
              "      <td>-75.51444</td>\n",
              "    </tr>\n",
              "    <tr>\n",
              "      <th>3</th>\n",
              "      <td>Microondas</td>\n",
              "      <td>Electrodomésticos</td>\n",
              "      <td>757500.0</td>\n",
              "      <td>41000.0</td>\n",
              "      <td>03/05/2022</td>\n",
              "      <td>Juan Fernandez</td>\n",
              "      <td>Cali</td>\n",
              "      <td>4</td>\n",
              "      <td>Nequi</td>\n",
              "      <td>1</td>\n",
              "      <td>3.43722</td>\n",
              "      <td>-76.52250</td>\n",
              "    </tr>\n",
              "    <tr>\n",
              "      <th>4</th>\n",
              "      <td>Silla de oficina</td>\n",
              "      <td>Muebles</td>\n",
              "      <td>335200.0</td>\n",
              "      <td>20200.0</td>\n",
              "      <td>07/11/2020</td>\n",
              "      <td>Maria Alfonso</td>\n",
              "      <td>Medellín</td>\n",
              "      <td>5</td>\n",
              "      <td>Nequi</td>\n",
              "      <td>1</td>\n",
              "      <td>6.25184</td>\n",
              "      <td>-75.56359</td>\n",
              "    </tr>\n",
              "  </tbody>\n",
              "</table>\n",
              "</div>"
            ],
            "text/plain": [
              "            Producto Categoría del Producto    Precio  Costo de envío  \\\n",
              "0  Asistente virtual           Electrónicos  164300.0          6900.0   \n",
              "1    Mesa de comedor                Muebles  192300.0          8400.0   \n",
              "2      Juego de mesa               Juguetes  209600.0         15900.0   \n",
              "3         Microondas      Electrodomésticos  757500.0         41000.0   \n",
              "4   Silla de oficina                Muebles  335200.0         20200.0   \n",
              "\n",
              "  Fecha de Compra         Vendedor Lugar de Compra  Calificación  \\\n",
              "0      16/01/2021      Pedro Gomez          Bogotá             4   \n",
              "1      18/05/2022  Beatriz Morales        Medellín             1   \n",
              "2      15/03/2021   Juan Fernandez       Cartagena             1   \n",
              "3      03/05/2022   Juan Fernandez            Cali             4   \n",
              "4      07/11/2020    Maria Alfonso        Medellín             5   \n",
              "\n",
              "       Método de pago  Cantidad de cuotas       lat       lon  \n",
              "0  Tarjeta de crédito                   8   4.60971 -74.08175  \n",
              "1  Tarjeta de crédito                   4   6.25184 -75.56359  \n",
              "2  Tarjeta de crédito                   1  10.39972 -75.51444  \n",
              "3               Nequi                   1   3.43722 -76.52250  \n",
              "4               Nequi                   1   6.25184 -75.56359  "
            ]
          },
          "execution_count": 17,
          "metadata": {},
          "output_type": "execute_result"
        }
      ],
      "source": [
        "import pandas as pd\n",
        "\n",
        "url = \"https://raw.githubusercontent.com/alura-es-cursos/challenge1-data-science-latam/refs/heads/main/base-de-datos-challenge1-latam/tienda_1%20.csv\"\n",
        "url2 = \"https://raw.githubusercontent.com/alura-es-cursos/challenge1-data-science-latam/refs/heads/main/base-de-datos-challenge1-latam/tienda_2.csv\"\n",
        "url3 = \"https://raw.githubusercontent.com/alura-es-cursos/challenge1-data-science-latam/refs/heads/main/base-de-datos-challenge1-latam/tienda_3.csv\"\n",
        "url4 = \"https://raw.githubusercontent.com/alura-es-cursos/challenge1-data-science-latam/refs/heads/main/base-de-datos-challenge1-latam/tienda_4.csv\"\n",
        "\n",
        "tienda = pd.read_csv(url)\n",
        "tienda2 = pd.read_csv(url2)\n",
        "tienda3 = pd.read_csv(url3)\n",
        "tienda4 = pd.read_csv(url4)\n",
        "\n",
        "tienda.head()"
      ]
    },
    {
      "cell_type": "code",
      "execution_count": 9,
      "metadata": {},
      "outputs": [],
      "source": [
        "def fechas(tienda_f):\n",
        "    fecha_reciente = max(tienda_f[\"Fecha de Compra\"])\n",
        "    fecha_Antigua = min(tienda_f[\"Fecha de Compra\"])\n",
        "    return f\"desde: {fecha_Antigua} a {fecha_reciente}\""
      ]
    },
    {
      "cell_type": "markdown",
      "metadata": {
        "id": "X62IW3KFUIYm"
      },
      "source": [
        "#1. Análisis de facturación\n",
        "\n"
      ]
    },
    {
      "cell_type": "code",
      "execution_count": 16,
      "metadata": {
        "id": "xykobSftV64I"
      },
      "outputs": [
        {
          "name": "stdout",
          "output_type": "stream",
          "text": [
            "ingresos estimados de la tienda 1 | desde: 01/01/2020 a 31/12/2022: $1150880400\n",
            "ingresos estimados de la tienda 2 | desde: 01/01/2020 a 31/12/2022: $1116343500\n",
            "ingresos estimados de la tienda 3 | desde: 01/01/2020 a 31/12/2021: $1098019600\n",
            "ingresos estimados de la tienda 4 | desde: 01/01/2020 a 31/12/2022: $1038375700\n"
          ]
        }
      ],
      "source": [
        "\n",
        "def ingreso_total(tienda, num):\n",
        "    lista_Precios = tienda[\"Precio\"].tolist() \n",
        "    suma_tienda = sum(lista_Precios)\n",
        "    print(f\"ingresos estimados de la tienda {num} | {fechas(tienda)}: ${suma_tienda:.0f}\")\n",
        "\n",
        "ingresos_t1 = ingreso_total(tienda, 1)\n",
        "ingresos_t2 = ingreso_total(tienda2, 2)\n",
        "ingresos_t3 = ingreso_total(tienda3, 3)\n",
        "ingresos_t4 = ingreso_total(tienda4, 4)"
      ]
    },
    {
      "cell_type": "code",
      "execution_count": 14,
      "metadata": {
        "id": "KDyr8E71V3m-"
      },
      "outputs": [],
      "source": [
        "# aqui vamos a poner los graficos con los ingresos totales de cada tienda:"
      ]
    },
    {
      "cell_type": "markdown",
      "metadata": {
        "id": "2V_vcAPzWZmR"
      },
      "source": [
        "# 2. Ventas por categoría"
      ]
    },
    {
      "cell_type": "code",
      "execution_count": 41,
      "metadata": {
        "id": "A34YupIuYhfF"
      },
      "outputs": [],
      "source": [
        "def categoria_mas_vendida(tienda):\n",
        "    return pd.DataFrame(tienda.groupby(\"Categoría del Producto\").agg(Productos_vendidos = ('Producto', 'count'), Total=('Precio', 'sum'))).sort_values(by='Productos_vendidos', ascending=False)"
      ]
    },
    {
      "cell_type": "code",
      "execution_count": 43,
      "metadata": {},
      "outputs": [
        {
          "data": {
            "text/html": [
              "<div>\n",
              "<style scoped>\n",
              "    .dataframe tbody tr th:only-of-type {\n",
              "        vertical-align: middle;\n",
              "    }\n",
              "\n",
              "    .dataframe tbody tr th {\n",
              "        vertical-align: top;\n",
              "    }\n",
              "\n",
              "    .dataframe thead th {\n",
              "        text-align: right;\n",
              "    }\n",
              "</style>\n",
              "<table border=\"1\" class=\"dataframe\">\n",
              "  <thead>\n",
              "    <tr style=\"text-align: right;\">\n",
              "      <th></th>\n",
              "      <th>Productos_vendidos</th>\n",
              "      <th>Total</th>\n",
              "    </tr>\n",
              "    <tr>\n",
              "      <th>Categoría del Producto</th>\n",
              "      <th></th>\n",
              "      <th></th>\n",
              "    </tr>\n",
              "  </thead>\n",
              "  <tbody>\n",
              "    <tr>\n",
              "      <th>Muebles</th>\n",
              "      <td>465</td>\n",
              "      <td>187633700.0</td>\n",
              "    </tr>\n",
              "    <tr>\n",
              "      <th>Electrónicos</th>\n",
              "      <td>448</td>\n",
              "      <td>429493500.0</td>\n",
              "    </tr>\n",
              "    <tr>\n",
              "      <th>Juguetes</th>\n",
              "      <td>324</td>\n",
              "      <td>17995700.0</td>\n",
              "    </tr>\n",
              "    <tr>\n",
              "      <th>Electrodomésticos</th>\n",
              "      <td>312</td>\n",
              "      <td>363685200.0</td>\n",
              "    </tr>\n",
              "    <tr>\n",
              "      <th>Deportes y diversión</th>\n",
              "      <td>284</td>\n",
              "      <td>39290000.0</td>\n",
              "    </tr>\n",
              "    <tr>\n",
              "      <th>Instrumentos musicales</th>\n",
              "      <td>182</td>\n",
              "      <td>91299000.0</td>\n",
              "    </tr>\n",
              "    <tr>\n",
              "      <th>Libros</th>\n",
              "      <td>173</td>\n",
              "      <td>8784900.0</td>\n",
              "    </tr>\n",
              "    <tr>\n",
              "      <th>Artículos para el hogar</th>\n",
              "      <td>171</td>\n",
              "      <td>12698400.0</td>\n",
              "    </tr>\n",
              "  </tbody>\n",
              "</table>\n",
              "</div>"
            ],
            "text/plain": [
              "                         Productos_vendidos        Total\n",
              "Categoría del Producto                                  \n",
              "Muebles                                 465  187633700.0\n",
              "Electrónicos                            448  429493500.0\n",
              "Juguetes                                324   17995700.0\n",
              "Electrodomésticos                       312  363685200.0\n",
              "Deportes y diversión                    284   39290000.0\n",
              "Instrumentos musicales                  182   91299000.0\n",
              "Libros                                  173    8784900.0\n",
              "Artículos para el hogar                 171   12698400.0"
            ]
          },
          "execution_count": 43,
          "metadata": {},
          "output_type": "execute_result"
        }
      ],
      "source": [
        "#tienda 1\n",
        "categoria_mas_vendida(tienda)"
      ]
    },
    {
      "cell_type": "code",
      "execution_count": 44,
      "metadata": {
        "id": "yZR6cOjXYSk1"
      },
      "outputs": [
        {
          "data": {
            "text/html": [
              "<div>\n",
              "<style scoped>\n",
              "    .dataframe tbody tr th:only-of-type {\n",
              "        vertical-align: middle;\n",
              "    }\n",
              "\n",
              "    .dataframe tbody tr th {\n",
              "        vertical-align: top;\n",
              "    }\n",
              "\n",
              "    .dataframe thead th {\n",
              "        text-align: right;\n",
              "    }\n",
              "</style>\n",
              "<table border=\"1\" class=\"dataframe\">\n",
              "  <thead>\n",
              "    <tr style=\"text-align: right;\">\n",
              "      <th></th>\n",
              "      <th>Productos_vendidos</th>\n",
              "      <th>Total</th>\n",
              "    </tr>\n",
              "    <tr>\n",
              "      <th>Categoría del Producto</th>\n",
              "      <th></th>\n",
              "      <th></th>\n",
              "    </tr>\n",
              "  </thead>\n",
              "  <tbody>\n",
              "    <tr>\n",
              "      <th>Muebles</th>\n",
              "      <td>442</td>\n",
              "      <td>176426300.0</td>\n",
              "    </tr>\n",
              "    <tr>\n",
              "      <th>Electrónicos</th>\n",
              "      <td>422</td>\n",
              "      <td>410831100.0</td>\n",
              "    </tr>\n",
              "    <tr>\n",
              "      <th>Juguetes</th>\n",
              "      <td>313</td>\n",
              "      <td>15945400.0</td>\n",
              "    </tr>\n",
              "    <tr>\n",
              "      <th>Electrodomésticos</th>\n",
              "      <td>305</td>\n",
              "      <td>348567800.0</td>\n",
              "    </tr>\n",
              "    <tr>\n",
              "      <th>Deportes y diversión</th>\n",
              "      <td>275</td>\n",
              "      <td>34744500.0</td>\n",
              "    </tr>\n",
              "    <tr>\n",
              "      <th>Instrumentos musicales</th>\n",
              "      <td>224</td>\n",
              "      <td>104990300.0</td>\n",
              "    </tr>\n",
              "    <tr>\n",
              "      <th>Libros</th>\n",
              "      <td>197</td>\n",
              "      <td>10091200.0</td>\n",
              "    </tr>\n",
              "    <tr>\n",
              "      <th>Artículos para el hogar</th>\n",
              "      <td>181</td>\n",
              "      <td>14746900.0</td>\n",
              "    </tr>\n",
              "  </tbody>\n",
              "</table>\n",
              "</div>"
            ],
            "text/plain": [
              "                         Productos_vendidos        Total\n",
              "Categoría del Producto                                  \n",
              "Muebles                                 442  176426300.0\n",
              "Electrónicos                            422  410831100.0\n",
              "Juguetes                                313   15945400.0\n",
              "Electrodomésticos                       305  348567800.0\n",
              "Deportes y diversión                    275   34744500.0\n",
              "Instrumentos musicales                  224  104990300.0\n",
              "Libros                                  197   10091200.0\n",
              "Artículos para el hogar                 181   14746900.0"
            ]
          },
          "execution_count": 44,
          "metadata": {},
          "output_type": "execute_result"
        }
      ],
      "source": [
        "#tienda 2\n",
        "categoria_mas_vendida(tienda2)"
      ]
    },
    {
      "cell_type": "code",
      "execution_count": 45,
      "metadata": {},
      "outputs": [
        {
          "data": {
            "text/html": [
              "<div>\n",
              "<style scoped>\n",
              "    .dataframe tbody tr th:only-of-type {\n",
              "        vertical-align: middle;\n",
              "    }\n",
              "\n",
              "    .dataframe tbody tr th {\n",
              "        vertical-align: top;\n",
              "    }\n",
              "\n",
              "    .dataframe thead th {\n",
              "        text-align: right;\n",
              "    }\n",
              "</style>\n",
              "<table border=\"1\" class=\"dataframe\">\n",
              "  <thead>\n",
              "    <tr style=\"text-align: right;\">\n",
              "      <th></th>\n",
              "      <th>Productos_vendidos</th>\n",
              "      <th>Total</th>\n",
              "    </tr>\n",
              "    <tr>\n",
              "      <th>Categoría del Producto</th>\n",
              "      <th></th>\n",
              "      <th></th>\n",
              "    </tr>\n",
              "  </thead>\n",
              "  <tbody>\n",
              "    <tr>\n",
              "      <th>Muebles</th>\n",
              "      <td>499</td>\n",
              "      <td>201072100.0</td>\n",
              "    </tr>\n",
              "    <tr>\n",
              "      <th>Electrónicos</th>\n",
              "      <td>451</td>\n",
              "      <td>410775800.0</td>\n",
              "    </tr>\n",
              "    <tr>\n",
              "      <th>Juguetes</th>\n",
              "      <td>315</td>\n",
              "      <td>19401100.0</td>\n",
              "    </tr>\n",
              "    <tr>\n",
              "      <th>Electrodomésticos</th>\n",
              "      <td>278</td>\n",
              "      <td>329237900.0</td>\n",
              "    </tr>\n",
              "    <tr>\n",
              "      <th>Deportes y diversión</th>\n",
              "      <td>277</td>\n",
              "      <td>35593100.0</td>\n",
              "    </tr>\n",
              "    <tr>\n",
              "      <th>Libros</th>\n",
              "      <td>185</td>\n",
              "      <td>9498700.0</td>\n",
              "    </tr>\n",
              "    <tr>\n",
              "      <th>Artículos para el hogar</th>\n",
              "      <td>177</td>\n",
              "      <td>15060000.0</td>\n",
              "    </tr>\n",
              "    <tr>\n",
              "      <th>Instrumentos musicales</th>\n",
              "      <td>177</td>\n",
              "      <td>77380900.0</td>\n",
              "    </tr>\n",
              "  </tbody>\n",
              "</table>\n",
              "</div>"
            ],
            "text/plain": [
              "                         Productos_vendidos        Total\n",
              "Categoría del Producto                                  \n",
              "Muebles                                 499  201072100.0\n",
              "Electrónicos                            451  410775800.0\n",
              "Juguetes                                315   19401100.0\n",
              "Electrodomésticos                       278  329237900.0\n",
              "Deportes y diversión                    277   35593100.0\n",
              "Libros                                  185    9498700.0\n",
              "Artículos para el hogar                 177   15060000.0\n",
              "Instrumentos musicales                  177   77380900.0"
            ]
          },
          "execution_count": 45,
          "metadata": {},
          "output_type": "execute_result"
        }
      ],
      "source": [
        "#tienda 3\n",
        "categoria_mas_vendida(tienda3)"
      ]
    },
    {
      "cell_type": "code",
      "execution_count": 46,
      "metadata": {},
      "outputs": [
        {
          "data": {
            "text/html": [
              "<div>\n",
              "<style scoped>\n",
              "    .dataframe tbody tr th:only-of-type {\n",
              "        vertical-align: middle;\n",
              "    }\n",
              "\n",
              "    .dataframe tbody tr th {\n",
              "        vertical-align: top;\n",
              "    }\n",
              "\n",
              "    .dataframe thead th {\n",
              "        text-align: right;\n",
              "    }\n",
              "</style>\n",
              "<table border=\"1\" class=\"dataframe\">\n",
              "  <thead>\n",
              "    <tr style=\"text-align: right;\">\n",
              "      <th></th>\n",
              "      <th>Productos_vendidos</th>\n",
              "      <th>Total</th>\n",
              "    </tr>\n",
              "    <tr>\n",
              "      <th>Categoría del Producto</th>\n",
              "      <th></th>\n",
              "      <th></th>\n",
              "    </tr>\n",
              "  </thead>\n",
              "  <tbody>\n",
              "    <tr>\n",
              "      <th>Muebles</th>\n",
              "      <td>480</td>\n",
              "      <td>192528900.0</td>\n",
              "    </tr>\n",
              "    <tr>\n",
              "      <th>Electrónicos</th>\n",
              "      <td>451</td>\n",
              "      <td>409476100.0</td>\n",
              "    </tr>\n",
              "    <tr>\n",
              "      <th>Juguetes</th>\n",
              "      <td>338</td>\n",
              "      <td>20262200.0</td>\n",
              "    </tr>\n",
              "    <tr>\n",
              "      <th>Deportes y diversión</th>\n",
              "      <td>277</td>\n",
              "      <td>33350100.0</td>\n",
              "    </tr>\n",
              "    <tr>\n",
              "      <th>Electrodomésticos</th>\n",
              "      <td>254</td>\n",
              "      <td>283260200.0</td>\n",
              "    </tr>\n",
              "    <tr>\n",
              "      <th>Artículos para el hogar</th>\n",
              "      <td>201</td>\n",
              "      <td>15074500.0</td>\n",
              "    </tr>\n",
              "    <tr>\n",
              "      <th>Libros</th>\n",
              "      <td>187</td>\n",
              "      <td>9321300.0</td>\n",
              "    </tr>\n",
              "    <tr>\n",
              "      <th>Instrumentos musicales</th>\n",
              "      <td>170</td>\n",
              "      <td>75102400.0</td>\n",
              "    </tr>\n",
              "  </tbody>\n",
              "</table>\n",
              "</div>"
            ],
            "text/plain": [
              "                         Productos_vendidos        Total\n",
              "Categoría del Producto                                  \n",
              "Muebles                                 480  192528900.0\n",
              "Electrónicos                            451  409476100.0\n",
              "Juguetes                                338   20262200.0\n",
              "Deportes y diversión                    277   33350100.0\n",
              "Electrodomésticos                       254  283260200.0\n",
              "Artículos para el hogar                 201   15074500.0\n",
              "Libros                                  187    9321300.0\n",
              "Instrumentos musicales                  170   75102400.0"
            ]
          },
          "execution_count": 46,
          "metadata": {},
          "output_type": "execute_result"
        }
      ],
      "source": [
        "#tienda 4\n",
        "categoria_mas_vendida(tienda4)"
      ]
    },
    {
      "cell_type": "markdown",
      "metadata": {
        "id": "Rq6tU_xSY3jk"
      },
      "source": [
        "# 3. Calificación promedio de la tienda\n"
      ]
    },
    {
      "cell_type": "code",
      "execution_count": null,
      "metadata": {
        "id": "bh3jjjJwY5MU"
      },
      "outputs": [],
      "source": []
    },
    {
      "cell_type": "code",
      "execution_count": null,
      "metadata": {
        "id": "I0KkjPoTY88F"
      },
      "outputs": [],
      "source": []
    },
    {
      "cell_type": "markdown",
      "metadata": {
        "id": "DmNp1KPBZCm-"
      },
      "source": [
        "# 4. Productos más y menos vendidos"
      ]
    },
    {
      "cell_type": "code",
      "execution_count": null,
      "metadata": {
        "id": "qoyjqijQZHfF"
      },
      "outputs": [],
      "source": []
    },
    {
      "cell_type": "code",
      "execution_count": null,
      "metadata": {
        "id": "0Sw3sd4IZIGW"
      },
      "outputs": [],
      "source": []
    },
    {
      "cell_type": "markdown",
      "metadata": {
        "id": "Fl0cGi3bZKqU"
      },
      "source": [
        "# 5. Envío promedio por tienda"
      ]
    },
    {
      "cell_type": "code",
      "execution_count": null,
      "metadata": {
        "id": "S2JeaCykZNy9"
      },
      "outputs": [],
      "source": []
    },
    {
      "cell_type": "code",
      "execution_count": null,
      "metadata": {
        "id": "0tSdCie9ZQlt"
      },
      "outputs": [],
      "source": []
    }
  ],
  "metadata": {
    "colab": {
      "provenance": []
    },
    "kernelspec": {
      "display_name": "Python 3",
      "name": "python3"
    },
    "language_info": {
      "codemirror_mode": {
        "name": "ipython",
        "version": 3
      },
      "file_extension": ".py",
      "mimetype": "text/x-python",
      "name": "python",
      "nbconvert_exporter": "python",
      "pygments_lexer": "ipython3",
      "version": "3.13.3"
    }
  },
  "nbformat": 4,
  "nbformat_minor": 0
}
